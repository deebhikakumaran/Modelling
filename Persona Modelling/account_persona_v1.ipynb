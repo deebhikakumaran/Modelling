{
  "cells": [
    {
      "cell_type": "code",
      "execution_count": 13,
      "metadata": {
        "id": "YbW1k2k-w19u"
      },
      "outputs": [],
      "source": [
        "import pandas as pd\n",
        "import numpy as np\n",
        "import json\n",
        "import matplotlib.pyplot as plt\n",
        "from datetime import datetime, timedelta\n",
        "from sklearn.linear_model import LinearRegression"
      ]
    },
    {
      "cell_type": "code",
      "source": [
        "df = pd.read_csv('crm_activities_100_voc.csv')"
      ],
      "metadata": {
        "id": "i86XIEMpxLiE"
      },
      "execution_count": 14,
      "outputs": []
    },
    {
      "cell_type": "code",
      "source": [
        "df.rename(columns={\n",
        "    \"POTENTIALID\": \"deal_id\",\n",
        "    \"ACTIVITY_TIMESTAMP\": \"timestamp\",\n",
        "    \"ACTIVITY\": \"activity_type\",\n",
        "    \"CONTACTID\": \"contact_id\",\n",
        "    \"ACCOUNTID\": \"account_id\",\n",
        "    \"CALL_VOC\": \"call_voc\",\n",
        "    \"EMAIL_VOC\": \"email_voc\",\n",
        "    \"EVENT_VOC\": \"event_voc\",\n",
        "    \"INVOICE_VOC\": \"invoice_voc\",\n",
        "    \"QUOTE_VOC\": \"quote_voc\",\n",
        "    \"SALESORDER_VOC\": \"salesorder_voc\",\n",
        "    \"DEALSTAGE\": \"deal_stage\",\n",
        "    \"CLASS_TAG\": \"class_tag\",\n",
        "    \"INVOICEGRANDTOTAL\": \"deal_amount\",\n",
        "}, inplace=True)\n",
        "\n",
        "df[\"timestamp\"] = pd.to_datetime(df[\"timestamp\"])"
      ],
      "metadata": {
        "id": "w09WHWjnxPXJ"
      },
      "execution_count": 15,
      "outputs": []
    },
    {
      "cell_type": "code",
      "execution_count": 16,
      "metadata": {
        "id": "afzpuXd9w19y"
      },
      "outputs": [],
      "source": [
        "account_features = []\n",
        "engagement_weights = {\"call\": 1, \"mail\": 0.5, \"meeting\": 1}\n",
        "\n",
        "for account_id, group in df.groupby(\"account_id\"):\n",
        "    deals = group[\"deal_id\"].nunique()\n",
        "    amount = group.drop_duplicates(\"deal_id\")[\"deal_amount\"].sum()\n",
        "    stages = group.drop_duplicates(\"deal_id\")[\"deal_stage\"].nunique()\n",
        "    activity_count = group.shape[0]\n",
        "\n",
        "    timestamps = group.sort_values(\"timestamp\")[\"timestamp\"]\n",
        "    gaps = timestamps.diff().dt.days.dropna()\n",
        "    activity_frequency = gaps.mean() if not gaps.empty else 30\n",
        "\n",
        "    engagement_score = group[\"activity_type\"].map(engagement_weights).sum()\n",
        "\n",
        "    account_features.append({\n",
        "        \"account_id\": account_id,\n",
        "        \"num_deals\": deals,\n",
        "        \"sum_deal_amount\": amount,\n",
        "        \"deal_stages\": stages,\n",
        "        \"activity_count\": activity_count,\n",
        "        \"activity_frequency\": activity_frequency,\n",
        "        \"engagement_score\": engagement_score\n",
        "    })\n",
        "\n",
        "features_df = pd.DataFrame(account_features)\n"
      ]
    },
    {
      "cell_type": "code",
      "execution_count": 17,
      "metadata": {
        "id": "1IB7MrE9w19y"
      },
      "outputs": [],
      "source": [
        "binning_rules = {}\n",
        "\n",
        "for column in [\"num_deals\", \"sum_deal_amount\", \"deal_stages\", \"activity_count\", \"activity_frequency\", \"engagement_score\"]:\n",
        "    values = features_df[column]\n",
        "    if column == \"activity_frequency\":\n",
        "        bins = {\n",
        "            \"max\": round(values.max(), 2),\n",
        "            \"avg\": round(values.mean(), 2),\n",
        "            \"min\": round(values.min(), 2)\n",
        "        }  # lower is better\n",
        "    else:\n",
        "        bins = {\n",
        "            \"min\": round(values.min(), 2),\n",
        "            \"avg\": round(values.mean(), 2),\n",
        "            \"max\": round(values.max(), 2)\n",
        "        }\n",
        "    binning_rules[column] = bins\n"
      ]
    },
    {
      "cell_type": "code",
      "execution_count": 18,
      "metadata": {
        "id": "QZeVi7Qww19z"
      },
      "outputs": [],
      "source": [
        "def bin_score(value, thresholds, reverse=False):\n",
        "    if reverse:\n",
        "        if value <= thresholds[\"min\"]:\n",
        "            return 1.0\n",
        "        elif value <= thresholds[\"avg\"]:\n",
        "            return 0.5\n",
        "        else:\n",
        "            return 0.2\n",
        "    else:\n",
        "        if value <= thresholds[\"min\"]:\n",
        "            return 0.2\n",
        "        elif value <= thresholds[\"avg\"]:\n",
        "            return 0.5\n",
        "        else:\n",
        "            return 1.0"
      ]
    },
    {
      "cell_type": "code",
      "execution_count": 19,
      "metadata": {
        "id": "lZk9_BeMw19z"
      },
      "outputs": [],
      "source": [
        "def compute_account_persona_score(account_features, weights, binning_rules):\n",
        "    individual_scores = {}\n",
        "    weighted_scores = []\n",
        "\n",
        "    for key in binning_rules:\n",
        "        thresholds = binning_rules[key]\n",
        "        reverse = key == \"activity_frequency\"\n",
        "        score = bin_score(account_features[key], thresholds, reverse)\n",
        "        individual_scores[key] = score\n",
        "        weighted_scores.append(score * weights.get(key, 1.0))\n",
        "\n",
        "    total_weight = sum(weights.values())\n",
        "    final_score = sum(weighted_scores) / total_weight if total_weight else 0\n",
        "\n",
        "    return {\n",
        "        \"account_id\": account_features[\"account_id\"],\n",
        "        \"final_persona_score\": round(final_score, 3),\n",
        "        \"individual_feature_scores\": individual_scores\n",
        "    }\n"
      ]
    },
    {
      "cell_type": "code",
      "execution_count": 20,
      "metadata": {
        "id": "lz4ZI6w5w190"
      },
      "outputs": [],
      "source": [
        "weights = {\n",
        "    \"num_deals\": 1.0,\n",
        "    \"sum_deal_amount\": 0.5,\n",
        "    \"deal_stages\": 1.0,\n",
        "    \"activity_count\": 1.0,\n",
        "    \"activity_frequency\": 1.0,\n",
        "    \"engagement_score\": 1.0\n",
        "}"
      ]
    },
    {
      "cell_type": "code",
      "execution_count": 26,
      "metadata": {
        "id": "2gPm4W7Pw191"
      },
      "outputs": [],
      "source": [
        "scored_personas = [compute_account_persona_score(row, weights, binning_rules) for row in account_features]\n",
        "\n",
        "df = [json_data for json_data in scored_personas]\n",
        "\n",
        "# Flatten it\n",
        "flat_data = []\n",
        "for row in df:\n",
        "    base = {\n",
        "        'contact_id': row['account_id'],\n",
        "        'final_persona_score': row['final_persona_score']\n",
        "    }\n",
        "    base.update(row['individual_feature_scores'])  # flatten the nested dict\n",
        "    flat_data.append(base)\n",
        "\n",
        "# Create DataFrame\n",
        "df = pd.DataFrame(flat_data)\n",
        "\n",
        "df.to_csv(\"scored_acc_personas_v1.csv\", index=False)"
      ]
    },
    {
      "cell_type": "code",
      "execution_count": 22,
      "metadata": {
        "id": "zJeRWdSlw191"
      },
      "outputs": [],
      "source": [
        "def score_new_account(account_id, deal_records, activity_records, weights, binning_rules, engagement_weights):\n",
        "    df_deals = pd.DataFrame(deal_records)\n",
        "    df_activities = pd.DataFrame(activity_records)\n",
        "\n",
        "    merged = pd.merge(df_activities, df_deals, on=\"deal_id\")\n",
        "\n",
        "    deals = merged[\"deal_id\"].nunique()\n",
        "    amount = merged.drop_duplicates(\"deal_id\")[\"deal_amount\"].sum()\n",
        "    stages = merged.drop_duplicates(\"deal_id\")[\"deal_stage\"].nunique()\n",
        "    activity_count = merged.shape[0]\n",
        "\n",
        "    timestamps = merged.sort_values(\"timestamp\")[\"timestamp\"]\n",
        "    gaps = timestamps.diff().dt.days.dropna()\n",
        "    activity_frequency = gaps.mean() if not gaps.empty else 30\n",
        "\n",
        "    engagement_score = merged[\"activity_type\"].map(engagement_weights).sum()\n",
        "\n",
        "    account_features = {\n",
        "        \"account_id\": account_id,\n",
        "        \"num_deals\": deals,\n",
        "        \"sum_deal_amount\": amount,\n",
        "        \"deal_stages\": stages,\n",
        "        \"activity_count\": activity_count,\n",
        "        \"activity_frequency\": activity_frequency,\n",
        "        \"engagement_score\": engagement_score\n",
        "    }\n",
        "\n",
        "    return compute_account_persona_score(account_features, weights, binning_rules)\n"
      ]
    },
    {
      "cell_type": "code",
      "execution_count": 23,
      "metadata": {
        "id": "c6InG3gTw192"
      },
      "outputs": [],
      "source": [
        "example_deal_records = [\n",
        "    {\"deal_id\": \"DA1\", \"deal_amount\": 15000, \"deal_stage\": \"Negotiation\"},\n",
        "    {\"deal_id\": \"DA2\", \"deal_amount\": 25000, \"deal_stage\": \"Won\"}\n",
        "]\n",
        "\n",
        "example_activity_records = [\n",
        "    {\"deal_id\": \"DA1\", \"activity_type\": \"mail\", \"timestamp\": datetime.now() - timedelta(days=10)},\n",
        "    {\"deal_id\": \"DA1\", \"activity_type\": \"call\", \"timestamp\": datetime.now() - timedelta(days=8)},\n",
        "    {\"deal_id\": \"DA2\", \"activity_type\": \"meeting\", \"timestamp\": datetime.now() - timedelta(days=2)}\n",
        "]\n"
      ]
    },
    {
      "cell_type": "code",
      "execution_count": 24,
      "metadata": {
        "colab": {
          "base_uri": "https://localhost:8080/"
        },
        "id": "TU607Vbyw192",
        "outputId": "8fb04596-74b3-4b32-c11a-16fcc95121af"
      },
      "outputs": [
        {
          "output_type": "stream",
          "name": "stdout",
          "text": [
            "\n",
            "Scored new account:\n",
            "{\n",
            "  \"account_id\": \"ANew\",\n",
            "  \"final_persona_score\": 0.418,\n",
            "  \"individual_feature_scores\": {\n",
            "    \"num_deals\": 0.2,\n",
            "    \"sum_deal_amount\": 1.0,\n",
            "    \"deal_stages\": 1.0,\n",
            "    \"activity_count\": 0.2,\n",
            "    \"activity_frequency\": 0.2,\n",
            "    \"engagement_score\": 0.2\n",
            "  }\n",
            "}\n"
          ]
        }
      ],
      "source": [
        "new_account_score = score_new_account(\"ANew\", example_deal_records, example_activity_records, weights, binning_rules, engagement_weights)\n",
        "print(\"\\nScored new account:\")\n",
        "print(json.dumps(new_account_score, indent=2))\n"
      ]
    },
    {
      "cell_type": "code",
      "execution_count": 24,
      "metadata": {
        "id": "Yn0a1YDKw193"
      },
      "outputs": [],
      "source": []
    }
  ],
  "metadata": {
    "kernelspec": {
      "display_name": "nbx_env_3_10",
      "language": "python",
      "name": "python3"
    },
    "language_info": {
      "codemirror_mode": {
        "name": "ipython",
        "version": 3
      },
      "file_extension": ".py",
      "mimetype": "text/x-python",
      "name": "python",
      "nbconvert_exporter": "python",
      "pygments_lexer": "ipython3",
      "version": "3.10.13"
    },
    "colab": {
      "provenance": []
    }
  },
  "nbformat": 4,
  "nbformat_minor": 0
}