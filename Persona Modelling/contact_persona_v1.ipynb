{
  "cells": [
    {
      "cell_type": "code",
      "execution_count": 45,
      "metadata": {
        "id": "a2yUIJIyWkDr"
      },
      "outputs": [],
      "source": [
        "import pandas as pd\n",
        "import numpy as np\n",
        "import json\n",
        "import matplotlib.pyplot as plt\n",
        "from datetime import datetime, timedelta\n",
        "from sklearn.linear_model import LinearRegression"
      ]
    },
    {
      "cell_type": "code",
      "source": [
        "df = pd.read_csv('crm_activities_100_voc.csv')"
      ],
      "metadata": {
        "id": "ORf3tSa2UQ3T"
      },
      "execution_count": 46,
      "outputs": []
    },
    {
      "cell_type": "code",
      "source": [
        "df.rename(columns={\n",
        "    \"POTENTIALID\": \"deal_id\",\n",
        "    \"ACTIVITY_TIMESTAMP\": \"timestamp\",\n",
        "    \"ACTIVITY\": \"activity_type\",\n",
        "    \"CONTACTID\": \"contact_id\",\n",
        "    \"ACCOUNTID\": \"account_id\",\n",
        "    \"CALL_VOC\": \"call_voc\",\n",
        "    \"EMAIL_VOC\": \"email_voc\",\n",
        "    \"EVENT_VOC\": \"event_voc\",\n",
        "    \"INVOICE_VOC\": \"invoice_voc\",\n",
        "    \"QUOTE_VOC\": \"quote_voc\",\n",
        "    \"SALESORDER_VOC\": \"salesorder_voc\",\n",
        "    \"DEALSTAGE\": \"deal_stage\",\n",
        "    \"CLASS_TAG\": \"class_tag\",\n",
        "    \"INVOICEGRANDTOTAL\": \"deal_amount\",\n",
        "}, inplace=True)\n",
        "\n",
        "df[\"timestamp\"] = pd.to_datetime(df[\"timestamp\"])"
      ],
      "metadata": {
        "id": "aEwdUjj20fdg"
      },
      "execution_count": 47,
      "outputs": []
    },
    {
      "cell_type": "code",
      "source": [
        "contact_features = []\n",
        "engagement_weights = {\"call\": 1, \"mail\": 0.5, \"meeting\": 1}\n",
        "\n",
        "for contact_id, group in df.groupby(\"contact_id\"):\n",
        "    deals = group[\"deal_id\"].nunique()\n",
        "    amount = group.drop_duplicates(\"deal_id\")[\"deal_amount\"].sum()\n",
        "    stages = group.drop_duplicates(\"deal_id\")[\"deal_stage\"].nunique()\n",
        "    activity_count = group.shape[0]\n",
        "\n",
        "    # Sort timestamps and compute avg gap in days\n",
        "    timestamps = group.sort_values(\"timestamp\")[\"timestamp\"]\n",
        "    gaps = timestamps.diff().dt.days.dropna()\n",
        "    activity_frequency = gaps.mean() if not gaps.empty else 30\n",
        "\n",
        "    # Compute engagement score\n",
        "    engagement_score = group[\"activity_type\"].map(engagement_weights).sum()\n",
        "\n",
        "    contact_features.append({\n",
        "        \"contact_id\": contact_id,\n",
        "        \"num_deals\": deals,\n",
        "        \"sum_deal_amount\": amount,\n",
        "        \"deal_stages\": stages,\n",
        "        \"activity_count\": activity_count,\n",
        "        \"activity_frequency\": activity_frequency,\n",
        "        \"engagement_score\": engagement_score\n",
        "    })\n",
        "\n",
        "features_df = pd.DataFrame(contact_features)"
      ],
      "metadata": {
        "id": "8JeZcve0xFzn"
      },
      "execution_count": 48,
      "outputs": []
    },
    {
      "cell_type": "code",
      "execution_count": 49,
      "metadata": {
        "id": "hBoCJmPgWkDz"
      },
      "outputs": [],
      "source": [
        "binning_rules = {}\n",
        "\n",
        "for column in [\"num_deals\", \"sum_deal_amount\", \"deal_stages\", \"activity_count\", \"activity_frequency\", \"engagement_score\"]:\n",
        "    values = features_df[column]\n",
        "    if column == \"activity_frequency\":\n",
        "        bins = {\n",
        "            \"max\": round(values.max(), 2),\n",
        "            \"avg\": round(values.mean(), 2),\n",
        "            \"min\": round(values.min(), 2)\n",
        "        }\n",
        "    else:\n",
        "        bins = {\n",
        "            \"min\": round(values.min(), 2),\n",
        "            \"avg\": round(values.mean(), 2),\n",
        "            \"max\": round(values.max(), 2)\n",
        "        }\n",
        "    binning_rules[column] = bins"
      ]
    },
    {
      "cell_type": "code",
      "execution_count": 50,
      "metadata": {
        "id": "MwDWklhSWkD1"
      },
      "outputs": [],
      "source": [
        "def bin_score(value, thresholds, reverse=False):\n",
        "    if reverse:\n",
        "        if value <= thresholds[\"min\"]:\n",
        "            return 1.0\n",
        "        elif value <= thresholds[\"avg\"]:\n",
        "            return 0.5\n",
        "        else:\n",
        "            return 0.2\n",
        "    else:\n",
        "        if value <= thresholds[\"min\"]:\n",
        "            return 0.2\n",
        "        elif value <= thresholds[\"avg\"]:\n",
        "            return 0.5\n",
        "        else:\n",
        "            return 1.0"
      ]
    },
    {
      "cell_type": "code",
      "execution_count": 51,
      "metadata": {
        "id": "M7e6TVJeWkD3"
      },
      "outputs": [],
      "source": [
        "def compute_contact_persona_score(contact_features, weights, binning_rules):\n",
        "    individual_scores = {}\n",
        "    weighted_scores = []\n",
        "\n",
        "    for key in binning_rules:\n",
        "        thresholds = binning_rules[key]\n",
        "        reverse = key == \"activity_frequency\"\n",
        "        score = bin_score(contact_features[key], thresholds, reverse)\n",
        "        individual_scores[key] = score\n",
        "        weighted_scores.append(score * weights.get(key, 1.0))\n",
        "\n",
        "    total_weight = sum(weights.values())\n",
        "    final_score = sum(weighted_scores) / total_weight if total_weight else 0\n",
        "\n",
        "    return {\n",
        "        \"contact_id\": contact_features[\"contact_id\"],\n",
        "        \"final_persona_score\": round(final_score, 3),\n",
        "        \"individual_feature_scores\": individual_scores\n",
        "    }"
      ]
    },
    {
      "cell_type": "code",
      "execution_count": 52,
      "metadata": {
        "id": "httS37wpWkD4"
      },
      "outputs": [],
      "source": [
        "weights = {\n",
        "    \"num_deals\": 1.0,\n",
        "    \"sum_deal_amount\": 0.5,\n",
        "    \"deal_stages\": 1.0,\n",
        "    \"activity_count\": 1.0,\n",
        "    \"activity_frequency\": 1.0,\n",
        "    \"engagement_score\": 1.0\n",
        "}"
      ]
    },
    {
      "cell_type": "code",
      "execution_count": 53,
      "metadata": {
        "id": "5T3CyATVWkD5"
      },
      "outputs": [],
      "source": [
        "scored_personas = [compute_contact_persona_score(row, weights, binning_rules) for row in contact_features]"
      ]
    },
    {
      "cell_type": "code",
      "source": [
        "df = [json_data for json_data in scored_personas]"
      ],
      "metadata": {
        "id": "gItP0rW2u1Tn"
      },
      "execution_count": 54,
      "outputs": []
    },
    {
      "cell_type": "code",
      "source": [
        "# Flatten it\n",
        "flat_data = []\n",
        "for row in df:\n",
        "    base = {\n",
        "        'contact_id': row['contact_id'],\n",
        "        'final_persona_score': row['final_persona_score']\n",
        "    }\n",
        "    base.update(row['individual_feature_scores'])  # flatten the nested dict\n",
        "    flat_data.append(base)\n",
        "\n",
        "# Create DataFrame\n",
        "df = pd.DataFrame(flat_data)"
      ],
      "metadata": {
        "id": "R0-xCzspunD2"
      },
      "execution_count": 55,
      "outputs": []
    },
    {
      "cell_type": "code",
      "source": [
        "df.to_csv(\"scored_personas_v1.csv\", index=False)"
      ],
      "metadata": {
        "id": "2X3qnGXCB7_9"
      },
      "execution_count": 56,
      "outputs": []
    },
    {
      "cell_type": "code",
      "source": [
        "def score_new_contact(contact_id, deal_records, activity_records, weights, binning_rules, engagement_weights):\n",
        "    df_deals = pd.DataFrame(deal_records)\n",
        "    df_activities = pd.DataFrame(activity_records)\n",
        "\n",
        "    merged = pd.merge(df_activities, df_deals, on=\"deal_id\")\n",
        "\n",
        "    deals = merged[\"deal_id\"].nunique()\n",
        "    amount = merged.drop_duplicates(\"deal_id\")[\"deal_amount\"].sum()\n",
        "    stages = merged.drop_duplicates(\"deal_id\")[\"deal_stage\"].nunique()\n",
        "    activity_count = merged.shape[0]\n",
        "\n",
        "    timestamps = merged.sort_values(\"timestamp\")[\"timestamp\"]\n",
        "    gaps = timestamps.diff().dt.days.dropna()\n",
        "    activity_frequency = gaps.mean() if not gaps.empty else 30\n",
        "\n",
        "    engagement_score = merged[\"activity_type\"].map(engagement_weights).sum()\n",
        "\n",
        "    contact_features = {\n",
        "        \"contact_id\": contact_id,\n",
        "        \"num_deals\": deals,\n",
        "        \"sum_deal_amount\": amount,\n",
        "        \"deal_stages\": stages,\n",
        "        \"activity_count\": activity_count,\n",
        "        \"activity_frequency\": activity_frequency,\n",
        "        \"engagement_score\": engagement_score\n",
        "    }\n",
        "\n",
        "    return compute_contact_persona_score(contact_features, weights, binning_rules)\n"
      ],
      "metadata": {
        "id": "kL2Lh7acB-bL"
      },
      "execution_count": 57,
      "outputs": []
    },
    {
      "cell_type": "code",
      "source": [
        "example_deal_records = [\n",
        "    {\"deal_id\": \"DX1\", \"deal_amount\": 9000, \"deal_stage\": \"Proposal\"},\n",
        "    {\"deal_id\": \"DX2\", \"deal_amount\": 14000, \"deal_stage\": \"Won\"}\n",
        "]\n",
        "\n",
        "example_activity_records = [\n",
        "    {\"deal_id\": \"DX1\", \"activity_type\": \"call\", \"timestamp\": datetime.now() - timedelta(days=5)},\n",
        "    {\"deal_id\": \"DX1\", \"activity_type\": \"mail\", \"timestamp\": datetime.now() - timedelta(days=3)},\n",
        "    {\"deal_id\": \"DX2\", \"activity_type\": \"meeting\", \"timestamp\": datetime.now() - timedelta(days=1)}\n",
        "]"
      ],
      "metadata": {
        "id": "GMvvE8-bBvKn"
      },
      "execution_count": 58,
      "outputs": []
    },
    {
      "cell_type": "code",
      "source": [
        "\n",
        "new_contact_score = score_new_contact(\"CNew\", example_deal_records, example_activity_records, weights, binning_rules, engagement_weights)\n",
        "print(\"\\nScored new contact:\")\n",
        "print(json.dumps(new_contact_score, indent=2))\n"
      ],
      "metadata": {
        "colab": {
          "base_uri": "https://localhost:8080/"
        },
        "id": "xYzgJNOCCAZ8",
        "outputId": "bffa17de-eaaf-441c-f22e-68fc1a891ead"
      },
      "execution_count": 59,
      "outputs": [
        {
          "output_type": "stream",
          "name": "stdout",
          "text": [
            "\n",
            "Scored new contact:\n",
            "{\n",
            "  \"contact_id\": \"CNew\",\n",
            "  \"final_persona_score\": 0.418,\n",
            "  \"individual_feature_scores\": {\n",
            "    \"num_deals\": 0.2,\n",
            "    \"sum_deal_amount\": 1.0,\n",
            "    \"deal_stages\": 1.0,\n",
            "    \"activity_count\": 0.2,\n",
            "    \"activity_frequency\": 0.2,\n",
            "    \"engagement_score\": 0.2\n",
            "  }\n",
            "}\n"
          ]
        }
      ]
    }
  ],
  "metadata": {
    "kernelspec": {
      "display_name": "nbx_env_3_10",
      "language": "python",
      "name": "python3"
    },
    "language_info": {
      "codemirror_mode": {
        "name": "ipython",
        "version": 3
      },
      "file_extension": ".py",
      "mimetype": "text/x-python",
      "name": "python",
      "nbconvert_exporter": "python",
      "pygments_lexer": "ipython3",
      "version": "3.10.13"
    },
    "colab": {
      "provenance": []
    }
  },
  "nbformat": 4,
  "nbformat_minor": 0
}